{
 "cells": [
  {
   "cell_type": "markdown",
   "id": "9e6ea05c",
   "metadata": {
    "papermill": {
     "duration": 0.044877,
     "end_time": "2022-05-17T14:15:29.454721",
     "exception": false,
     "start_time": "2022-05-17T14:15:29.409844",
     "status": "completed"
    },
    "tags": []
   },
   "source": [
    "# Avocado Prices - price prediction"
   ]
  },
  {
   "cell_type": "code",
   "execution_count": 1,
   "id": "57e4a847",
   "metadata": {
    "execution": {
     "iopub.execute_input": "2022-05-17T14:15:29.546485Z",
     "iopub.status.busy": "2022-05-17T14:15:29.546148Z",
     "iopub.status.idle": "2022-05-17T14:15:30.498305Z",
     "shell.execute_reply": "2022-05-17T14:15:30.497401Z"
    },
    "papermill": {
     "duration": 1.00021,
     "end_time": "2022-05-17T14:15:30.500964",
     "exception": false,
     "start_time": "2022-05-17T14:15:29.500754",
     "status": "completed"
    },
    "tags": []
   },
   "outputs": [],
   "source": [
    "import numpy as np\n",
    "import pandas as pd\n",
    "import matplotlib.pyplot as plt\n",
    "import seaborn as sns\n",
    "\n",
    "#Ignoring warnings for better presentation of the notebook\n",
    "import warnings\n",
    "warnings.simplefilter(action='ignore', category=FutureWarning)"
   ]
  },
  {
   "cell_type": "code",
   "execution_count": 2,
   "id": "9a0a0f6f",
   "metadata": {
    "execution": {
     "iopub.execute_input": "2022-05-17T14:15:30.590789Z",
     "iopub.status.busy": "2022-05-17T14:15:30.589865Z",
     "iopub.status.idle": "2022-05-17T14:15:30.671911Z",
     "shell.execute_reply": "2022-05-17T14:15:30.671104Z"
    },
    "papermill": {
     "duration": 0.129589,
     "end_time": "2022-05-17T14:15:30.674263",
     "exception": false,
     "start_time": "2022-05-17T14:15:30.544674",
     "status": "completed"
    },
    "tags": []
   },
   "outputs": [],
   "source": [
    "df = pd.read_csv(\"avocado.csv\")"
   ]
  },
  {
   "cell_type": "markdown",
   "id": "784529a5",
   "metadata": {
    "papermill": {
     "duration": 0.042614,
     "end_time": "2022-05-17T14:15:30.760368",
     "exception": false,
     "start_time": "2022-05-17T14:15:30.717754",
     "status": "completed"
    },
    "tags": []
   },
   "source": [
    "## Exploratory Data"
   ]
  },
  {
   "cell_type": "code",
   "execution_count": 3,
   "id": "2c142784",
   "metadata": {
    "execution": {
     "iopub.execute_input": "2022-05-17T14:15:30.853535Z",
     "iopub.status.busy": "2022-05-17T14:15:30.852877Z",
     "iopub.status.idle": "2022-05-17T14:15:30.887699Z",
     "shell.execute_reply": "2022-05-17T14:15:30.886482Z"
    },
    "papermill": {
     "duration": 0.088237,
     "end_time": "2022-05-17T14:15:30.891717",
     "exception": false,
     "start_time": "2022-05-17T14:15:30.803480",
     "status": "completed"
    },
    "tags": []
   },
   "outputs": [
    {
     "data": {
      "text/html": [
       "<div>\n",
       "<style scoped>\n",
       "    .dataframe tbody tr th:only-of-type {\n",
       "        vertical-align: middle;\n",
       "    }\n",
       "\n",
       "    .dataframe tbody tr th {\n",
       "        vertical-align: top;\n",
       "    }\n",
       "\n",
       "    .dataframe thead th {\n",
       "        text-align: right;\n",
       "    }\n",
       "</style>\n",
       "<table border=\"1\" class=\"dataframe\">\n",
       "  <thead>\n",
       "    <tr style=\"text-align: right;\">\n",
       "      <th></th>\n",
       "      <th>Unnamed: 0</th>\n",
       "      <th>Date</th>\n",
       "      <th>AveragePrice</th>\n",
       "      <th>Total Volume</th>\n",
       "      <th>4046</th>\n",
       "      <th>4225</th>\n",
       "      <th>4770</th>\n",
       "      <th>Total Bags</th>\n",
       "      <th>Small Bags</th>\n",
       "      <th>Large Bags</th>\n",
       "      <th>XLarge Bags</th>\n",
       "      <th>type</th>\n",
       "      <th>year</th>\n",
       "      <th>region</th>\n",
       "    </tr>\n",
       "  </thead>\n",
       "  <tbody>\n",
       "    <tr>\n",
       "      <th>0</th>\n",
       "      <td>0</td>\n",
       "      <td>2015-12-27</td>\n",
       "      <td>1.33</td>\n",
       "      <td>64236.62</td>\n",
       "      <td>1036.74</td>\n",
       "      <td>54454.85</td>\n",
       "      <td>48.16</td>\n",
       "      <td>8696.87</td>\n",
       "      <td>8603.62</td>\n",
       "      <td>93.25</td>\n",
       "      <td>0.0</td>\n",
       "      <td>conventional</td>\n",
       "      <td>2015</td>\n",
       "      <td>Albany</td>\n",
       "    </tr>\n",
       "    <tr>\n",
       "      <th>1</th>\n",
       "      <td>1</td>\n",
       "      <td>2015-12-20</td>\n",
       "      <td>1.35</td>\n",
       "      <td>54876.98</td>\n",
       "      <td>674.28</td>\n",
       "      <td>44638.81</td>\n",
       "      <td>58.33</td>\n",
       "      <td>9505.56</td>\n",
       "      <td>9408.07</td>\n",
       "      <td>97.49</td>\n",
       "      <td>0.0</td>\n",
       "      <td>conventional</td>\n",
       "      <td>2015</td>\n",
       "      <td>Albany</td>\n",
       "    </tr>\n",
       "    <tr>\n",
       "      <th>2</th>\n",
       "      <td>2</td>\n",
       "      <td>2015-12-13</td>\n",
       "      <td>0.93</td>\n",
       "      <td>118220.22</td>\n",
       "      <td>794.70</td>\n",
       "      <td>109149.67</td>\n",
       "      <td>130.50</td>\n",
       "      <td>8145.35</td>\n",
       "      <td>8042.21</td>\n",
       "      <td>103.14</td>\n",
       "      <td>0.0</td>\n",
       "      <td>conventional</td>\n",
       "      <td>2015</td>\n",
       "      <td>Albany</td>\n",
       "    </tr>\n",
       "    <tr>\n",
       "      <th>3</th>\n",
       "      <td>3</td>\n",
       "      <td>2015-12-06</td>\n",
       "      <td>1.08</td>\n",
       "      <td>78992.15</td>\n",
       "      <td>1132.00</td>\n",
       "      <td>71976.41</td>\n",
       "      <td>72.58</td>\n",
       "      <td>5811.16</td>\n",
       "      <td>5677.40</td>\n",
       "      <td>133.76</td>\n",
       "      <td>0.0</td>\n",
       "      <td>conventional</td>\n",
       "      <td>2015</td>\n",
       "      <td>Albany</td>\n",
       "    </tr>\n",
       "    <tr>\n",
       "      <th>4</th>\n",
       "      <td>4</td>\n",
       "      <td>2015-11-29</td>\n",
       "      <td>1.28</td>\n",
       "      <td>51039.60</td>\n",
       "      <td>941.48</td>\n",
       "      <td>43838.39</td>\n",
       "      <td>75.78</td>\n",
       "      <td>6183.95</td>\n",
       "      <td>5986.26</td>\n",
       "      <td>197.69</td>\n",
       "      <td>0.0</td>\n",
       "      <td>conventional</td>\n",
       "      <td>2015</td>\n",
       "      <td>Albany</td>\n",
       "    </tr>\n",
       "  </tbody>\n",
       "</table>\n",
       "</div>"
      ],
      "text/plain": [
       "   Unnamed: 0        Date  AveragePrice  Total Volume     4046       4225  \\\n",
       "0           0  2015-12-27          1.33      64236.62  1036.74   54454.85   \n",
       "1           1  2015-12-20          1.35      54876.98   674.28   44638.81   \n",
       "2           2  2015-12-13          0.93     118220.22   794.70  109149.67   \n",
       "3           3  2015-12-06          1.08      78992.15  1132.00   71976.41   \n",
       "4           4  2015-11-29          1.28      51039.60   941.48   43838.39   \n",
       "\n",
       "     4770  Total Bags  Small Bags  Large Bags  XLarge Bags          type  \\\n",
       "0   48.16     8696.87     8603.62       93.25          0.0  conventional   \n",
       "1   58.33     9505.56     9408.07       97.49          0.0  conventional   \n",
       "2  130.50     8145.35     8042.21      103.14          0.0  conventional   \n",
       "3   72.58     5811.16     5677.40      133.76          0.0  conventional   \n",
       "4   75.78     6183.95     5986.26      197.69          0.0  conventional   \n",
       "\n",
       "   year  region  \n",
       "0  2015  Albany  \n",
       "1  2015  Albany  \n",
       "2  2015  Albany  \n",
       "3  2015  Albany  \n",
       "4  2015  Albany  "
      ]
     },
     "execution_count": 3,
     "metadata": {},
     "output_type": "execute_result"
    }
   ],
   "source": [
    "df.head()"
   ]
  },
  {
   "cell_type": "code",
   "execution_count": 4,
   "id": "4bb017df",
   "metadata": {
    "execution": {
     "iopub.execute_input": "2022-05-17T14:15:30.994350Z",
     "iopub.status.busy": "2022-05-17T14:15:30.993254Z",
     "iopub.status.idle": "2022-05-17T14:15:31.014098Z",
     "shell.execute_reply": "2022-05-17T14:15:31.013446Z"
    },
    "papermill": {
     "duration": 0.068199,
     "end_time": "2022-05-17T14:15:31.016000",
     "exception": false,
     "start_time": "2022-05-17T14:15:30.947801",
     "status": "completed"
    },
    "tags": []
   },
   "outputs": [
    {
     "data": {
      "text/html": [
       "<div>\n",
       "<style scoped>\n",
       "    .dataframe tbody tr th:only-of-type {\n",
       "        vertical-align: middle;\n",
       "    }\n",
       "\n",
       "    .dataframe tbody tr th {\n",
       "        vertical-align: top;\n",
       "    }\n",
       "\n",
       "    .dataframe thead th {\n",
       "        text-align: right;\n",
       "    }\n",
       "</style>\n",
       "<table border=\"1\" class=\"dataframe\">\n",
       "  <thead>\n",
       "    <tr style=\"text-align: right;\">\n",
       "      <th></th>\n",
       "      <th>Unnamed: 0</th>\n",
       "      <th>Date</th>\n",
       "      <th>AveragePrice</th>\n",
       "      <th>Total Volume</th>\n",
       "      <th>4046</th>\n",
       "      <th>4225</th>\n",
       "      <th>4770</th>\n",
       "      <th>Total Bags</th>\n",
       "      <th>Small Bags</th>\n",
       "      <th>Large Bags</th>\n",
       "      <th>XLarge Bags</th>\n",
       "      <th>type</th>\n",
       "      <th>year</th>\n",
       "      <th>region</th>\n",
       "    </tr>\n",
       "  </thead>\n",
       "  <tbody>\n",
       "    <tr>\n",
       "      <th>18244</th>\n",
       "      <td>7</td>\n",
       "      <td>2018-02-04</td>\n",
       "      <td>1.63</td>\n",
       "      <td>17074.83</td>\n",
       "      <td>2046.96</td>\n",
       "      <td>1529.20</td>\n",
       "      <td>0.00</td>\n",
       "      <td>13498.67</td>\n",
       "      <td>13066.82</td>\n",
       "      <td>431.85</td>\n",
       "      <td>0.0</td>\n",
       "      <td>organic</td>\n",
       "      <td>2018</td>\n",
       "      <td>WestTexNewMexico</td>\n",
       "    </tr>\n",
       "    <tr>\n",
       "      <th>18245</th>\n",
       "      <td>8</td>\n",
       "      <td>2018-01-28</td>\n",
       "      <td>1.71</td>\n",
       "      <td>13888.04</td>\n",
       "      <td>1191.70</td>\n",
       "      <td>3431.50</td>\n",
       "      <td>0.00</td>\n",
       "      <td>9264.84</td>\n",
       "      <td>8940.04</td>\n",
       "      <td>324.80</td>\n",
       "      <td>0.0</td>\n",
       "      <td>organic</td>\n",
       "      <td>2018</td>\n",
       "      <td>WestTexNewMexico</td>\n",
       "    </tr>\n",
       "    <tr>\n",
       "      <th>18246</th>\n",
       "      <td>9</td>\n",
       "      <td>2018-01-21</td>\n",
       "      <td>1.87</td>\n",
       "      <td>13766.76</td>\n",
       "      <td>1191.92</td>\n",
       "      <td>2452.79</td>\n",
       "      <td>727.94</td>\n",
       "      <td>9394.11</td>\n",
       "      <td>9351.80</td>\n",
       "      <td>42.31</td>\n",
       "      <td>0.0</td>\n",
       "      <td>organic</td>\n",
       "      <td>2018</td>\n",
       "      <td>WestTexNewMexico</td>\n",
       "    </tr>\n",
       "    <tr>\n",
       "      <th>18247</th>\n",
       "      <td>10</td>\n",
       "      <td>2018-01-14</td>\n",
       "      <td>1.93</td>\n",
       "      <td>16205.22</td>\n",
       "      <td>1527.63</td>\n",
       "      <td>2981.04</td>\n",
       "      <td>727.01</td>\n",
       "      <td>10969.54</td>\n",
       "      <td>10919.54</td>\n",
       "      <td>50.00</td>\n",
       "      <td>0.0</td>\n",
       "      <td>organic</td>\n",
       "      <td>2018</td>\n",
       "      <td>WestTexNewMexico</td>\n",
       "    </tr>\n",
       "    <tr>\n",
       "      <th>18248</th>\n",
       "      <td>11</td>\n",
       "      <td>2018-01-07</td>\n",
       "      <td>1.62</td>\n",
       "      <td>17489.58</td>\n",
       "      <td>2894.77</td>\n",
       "      <td>2356.13</td>\n",
       "      <td>224.53</td>\n",
       "      <td>12014.15</td>\n",
       "      <td>11988.14</td>\n",
       "      <td>26.01</td>\n",
       "      <td>0.0</td>\n",
       "      <td>organic</td>\n",
       "      <td>2018</td>\n",
       "      <td>WestTexNewMexico</td>\n",
       "    </tr>\n",
       "  </tbody>\n",
       "</table>\n",
       "</div>"
      ],
      "text/plain": [
       "       Unnamed: 0        Date  AveragePrice  Total Volume     4046     4225  \\\n",
       "18244           7  2018-02-04          1.63      17074.83  2046.96  1529.20   \n",
       "18245           8  2018-01-28          1.71      13888.04  1191.70  3431.50   \n",
       "18246           9  2018-01-21          1.87      13766.76  1191.92  2452.79   \n",
       "18247          10  2018-01-14          1.93      16205.22  1527.63  2981.04   \n",
       "18248          11  2018-01-07          1.62      17489.58  2894.77  2356.13   \n",
       "\n",
       "         4770  Total Bags  Small Bags  Large Bags  XLarge Bags     type  year  \\\n",
       "18244    0.00    13498.67    13066.82      431.85          0.0  organic  2018   \n",
       "18245    0.00     9264.84     8940.04      324.80          0.0  organic  2018   \n",
       "18246  727.94     9394.11     9351.80       42.31          0.0  organic  2018   \n",
       "18247  727.01    10969.54    10919.54       50.00          0.0  organic  2018   \n",
       "18248  224.53    12014.15    11988.14       26.01          0.0  organic  2018   \n",
       "\n",
       "                 region  \n",
       "18244  WestTexNewMexico  \n",
       "18245  WestTexNewMexico  \n",
       "18246  WestTexNewMexico  \n",
       "18247  WestTexNewMexico  \n",
       "18248  WestTexNewMexico  "
      ]
     },
     "execution_count": 4,
     "metadata": {},
     "output_type": "execute_result"
    }
   ],
   "source": [
    "df.tail()"
   ]
  },
  {
   "cell_type": "code",
   "execution_count": 5,
   "id": "9dc94496",
   "metadata": {
    "execution": {
     "iopub.execute_input": "2022-05-17T14:15:31.108972Z",
     "iopub.status.busy": "2022-05-17T14:15:31.108321Z",
     "iopub.status.idle": "2022-05-17T14:15:31.129215Z",
     "shell.execute_reply": "2022-05-17T14:15:31.128527Z"
    },
    "papermill": {
     "duration": 0.070298,
     "end_time": "2022-05-17T14:15:31.131085",
     "exception": false,
     "start_time": "2022-05-17T14:15:31.060787",
     "status": "completed"
    },
    "tags": []
   },
   "outputs": [
    {
     "name": "stdout",
     "output_type": "stream",
     "text": [
      "<class 'pandas.core.frame.DataFrame'>\n",
      "RangeIndex: 18249 entries, 0 to 18248\n",
      "Data columns (total 14 columns):\n",
      " #   Column        Non-Null Count  Dtype  \n",
      "---  ------        --------------  -----  \n",
      " 0   Unnamed: 0    18249 non-null  int64  \n",
      " 1   Date          18249 non-null  object \n",
      " 2   AveragePrice  18249 non-null  float64\n",
      " 3   Total Volume  18249 non-null  float64\n",
      " 4   4046          18249 non-null  float64\n",
      " 5   4225          18249 non-null  float64\n",
      " 6   4770          18249 non-null  float64\n",
      " 7   Total Bags    18249 non-null  float64\n",
      " 8   Small Bags    18249 non-null  float64\n",
      " 9   Large Bags    18249 non-null  float64\n",
      " 10  XLarge Bags   18249 non-null  float64\n",
      " 11  type          18249 non-null  object \n",
      " 12  year          18249 non-null  int64  \n",
      " 13  region        18249 non-null  object \n",
      "dtypes: float64(9), int64(2), object(3)\n",
      "memory usage: 1.9+ MB\n"
     ]
    }
   ],
   "source": [
    "df.info()"
   ]
  },
  {
   "cell_type": "markdown",
   "id": "16f6b514",
   "metadata": {},
   "source": [
    "we have no null values (good)"
   ]
  },
  {
   "cell_type": "code",
   "execution_count": 6,
   "id": "83fe9867",
   "metadata": {
    "execution": {
     "iopub.execute_input": "2022-05-17T14:15:31.224085Z",
     "iopub.status.busy": "2022-05-17T14:15:31.223470Z",
     "iopub.status.idle": "2022-05-17T14:15:31.283853Z",
     "shell.execute_reply": "2022-05-17T14:15:31.282984Z"
    },
    "papermill": {
     "duration": 0.109388,
     "end_time": "2022-05-17T14:15:31.286008",
     "exception": false,
     "start_time": "2022-05-17T14:15:31.176620",
     "status": "completed"
    },
    "tags": []
   },
   "outputs": [
    {
     "data": {
      "text/html": [
       "<div>\n",
       "<style scoped>\n",
       "    .dataframe tbody tr th:only-of-type {\n",
       "        vertical-align: middle;\n",
       "    }\n",
       "\n",
       "    .dataframe tbody tr th {\n",
       "        vertical-align: top;\n",
       "    }\n",
       "\n",
       "    .dataframe thead th {\n",
       "        text-align: right;\n",
       "    }\n",
       "</style>\n",
       "<table border=\"1\" class=\"dataframe\">\n",
       "  <thead>\n",
       "    <tr style=\"text-align: right;\">\n",
       "      <th></th>\n",
       "      <th>Unnamed: 0</th>\n",
       "      <th>AveragePrice</th>\n",
       "      <th>Total Volume</th>\n",
       "      <th>4046</th>\n",
       "      <th>4225</th>\n",
       "      <th>4770</th>\n",
       "      <th>Total Bags</th>\n",
       "      <th>Small Bags</th>\n",
       "      <th>Large Bags</th>\n",
       "      <th>XLarge Bags</th>\n",
       "      <th>year</th>\n",
       "    </tr>\n",
       "  </thead>\n",
       "  <tbody>\n",
       "    <tr>\n",
       "      <th>count</th>\n",
       "      <td>18249.000000</td>\n",
       "      <td>18249.000000</td>\n",
       "      <td>1.824900e+04</td>\n",
       "      <td>1.824900e+04</td>\n",
       "      <td>1.824900e+04</td>\n",
       "      <td>1.824900e+04</td>\n",
       "      <td>1.824900e+04</td>\n",
       "      <td>1.824900e+04</td>\n",
       "      <td>1.824900e+04</td>\n",
       "      <td>18249.000000</td>\n",
       "      <td>18249.000000</td>\n",
       "    </tr>\n",
       "    <tr>\n",
       "      <th>mean</th>\n",
       "      <td>24.232232</td>\n",
       "      <td>1.405978</td>\n",
       "      <td>8.506440e+05</td>\n",
       "      <td>2.930084e+05</td>\n",
       "      <td>2.951546e+05</td>\n",
       "      <td>2.283974e+04</td>\n",
       "      <td>2.396392e+05</td>\n",
       "      <td>1.821947e+05</td>\n",
       "      <td>5.433809e+04</td>\n",
       "      <td>3106.426507</td>\n",
       "      <td>2016.147899</td>\n",
       "    </tr>\n",
       "    <tr>\n",
       "      <th>std</th>\n",
       "      <td>15.481045</td>\n",
       "      <td>0.402677</td>\n",
       "      <td>3.453545e+06</td>\n",
       "      <td>1.264989e+06</td>\n",
       "      <td>1.204120e+06</td>\n",
       "      <td>1.074641e+05</td>\n",
       "      <td>9.862424e+05</td>\n",
       "      <td>7.461785e+05</td>\n",
       "      <td>2.439660e+05</td>\n",
       "      <td>17692.894652</td>\n",
       "      <td>0.939938</td>\n",
       "    </tr>\n",
       "    <tr>\n",
       "      <th>min</th>\n",
       "      <td>0.000000</td>\n",
       "      <td>0.440000</td>\n",
       "      <td>8.456000e+01</td>\n",
       "      <td>0.000000e+00</td>\n",
       "      <td>0.000000e+00</td>\n",
       "      <td>0.000000e+00</td>\n",
       "      <td>0.000000e+00</td>\n",
       "      <td>0.000000e+00</td>\n",
       "      <td>0.000000e+00</td>\n",
       "      <td>0.000000</td>\n",
       "      <td>2015.000000</td>\n",
       "    </tr>\n",
       "    <tr>\n",
       "      <th>25%</th>\n",
       "      <td>10.000000</td>\n",
       "      <td>1.100000</td>\n",
       "      <td>1.083858e+04</td>\n",
       "      <td>8.540700e+02</td>\n",
       "      <td>3.008780e+03</td>\n",
       "      <td>0.000000e+00</td>\n",
       "      <td>5.088640e+03</td>\n",
       "      <td>2.849420e+03</td>\n",
       "      <td>1.274700e+02</td>\n",
       "      <td>0.000000</td>\n",
       "      <td>2015.000000</td>\n",
       "    </tr>\n",
       "    <tr>\n",
       "      <th>50%</th>\n",
       "      <td>24.000000</td>\n",
       "      <td>1.370000</td>\n",
       "      <td>1.073768e+05</td>\n",
       "      <td>8.645300e+03</td>\n",
       "      <td>2.906102e+04</td>\n",
       "      <td>1.849900e+02</td>\n",
       "      <td>3.974383e+04</td>\n",
       "      <td>2.636282e+04</td>\n",
       "      <td>2.647710e+03</td>\n",
       "      <td>0.000000</td>\n",
       "      <td>2016.000000</td>\n",
       "    </tr>\n",
       "    <tr>\n",
       "      <th>75%</th>\n",
       "      <td>38.000000</td>\n",
       "      <td>1.660000</td>\n",
       "      <td>4.329623e+05</td>\n",
       "      <td>1.110202e+05</td>\n",
       "      <td>1.502069e+05</td>\n",
       "      <td>6.243420e+03</td>\n",
       "      <td>1.107834e+05</td>\n",
       "      <td>8.333767e+04</td>\n",
       "      <td>2.202925e+04</td>\n",
       "      <td>132.500000</td>\n",
       "      <td>2017.000000</td>\n",
       "    </tr>\n",
       "    <tr>\n",
       "      <th>max</th>\n",
       "      <td>52.000000</td>\n",
       "      <td>3.250000</td>\n",
       "      <td>6.250565e+07</td>\n",
       "      <td>2.274362e+07</td>\n",
       "      <td>2.047057e+07</td>\n",
       "      <td>2.546439e+06</td>\n",
       "      <td>1.937313e+07</td>\n",
       "      <td>1.338459e+07</td>\n",
       "      <td>5.719097e+06</td>\n",
       "      <td>551693.650000</td>\n",
       "      <td>2018.000000</td>\n",
       "    </tr>\n",
       "  </tbody>\n",
       "</table>\n",
       "</div>"
      ],
      "text/plain": [
       "         Unnamed: 0  AveragePrice  Total Volume          4046          4225  \\\n",
       "count  18249.000000  18249.000000  1.824900e+04  1.824900e+04  1.824900e+04   \n",
       "mean      24.232232      1.405978  8.506440e+05  2.930084e+05  2.951546e+05   \n",
       "std       15.481045      0.402677  3.453545e+06  1.264989e+06  1.204120e+06   \n",
       "min        0.000000      0.440000  8.456000e+01  0.000000e+00  0.000000e+00   \n",
       "25%       10.000000      1.100000  1.083858e+04  8.540700e+02  3.008780e+03   \n",
       "50%       24.000000      1.370000  1.073768e+05  8.645300e+03  2.906102e+04   \n",
       "75%       38.000000      1.660000  4.329623e+05  1.110202e+05  1.502069e+05   \n",
       "max       52.000000      3.250000  6.250565e+07  2.274362e+07  2.047057e+07   \n",
       "\n",
       "               4770    Total Bags    Small Bags    Large Bags    XLarge Bags  \\\n",
       "count  1.824900e+04  1.824900e+04  1.824900e+04  1.824900e+04   18249.000000   \n",
       "mean   2.283974e+04  2.396392e+05  1.821947e+05  5.433809e+04    3106.426507   \n",
       "std    1.074641e+05  9.862424e+05  7.461785e+05  2.439660e+05   17692.894652   \n",
       "min    0.000000e+00  0.000000e+00  0.000000e+00  0.000000e+00       0.000000   \n",
       "25%    0.000000e+00  5.088640e+03  2.849420e+03  1.274700e+02       0.000000   \n",
       "50%    1.849900e+02  3.974383e+04  2.636282e+04  2.647710e+03       0.000000   \n",
       "75%    6.243420e+03  1.107834e+05  8.333767e+04  2.202925e+04     132.500000   \n",
       "max    2.546439e+06  1.937313e+07  1.338459e+07  5.719097e+06  551693.650000   \n",
       "\n",
       "               year  \n",
       "count  18249.000000  \n",
       "mean    2016.147899  \n",
       "std        0.939938  \n",
       "min     2015.000000  \n",
       "25%     2015.000000  \n",
       "50%     2016.000000  \n",
       "75%     2017.000000  \n",
       "max     2018.000000  "
      ]
     },
     "execution_count": 6,
     "metadata": {},
     "output_type": "execute_result"
    }
   ],
   "source": [
    "df.describe()"
   ]
  },
  {
   "cell_type": "code",
   "execution_count": 7,
   "id": "f75a5927",
   "metadata": {
    "execution": {
     "iopub.execute_input": "2022-05-17T14:15:31.484413Z",
     "iopub.status.busy": "2022-05-17T14:15:31.483766Z",
     "iopub.status.idle": "2022-05-17T14:15:31.490074Z",
     "shell.execute_reply": "2022-05-17T14:15:31.488521Z"
    },
    "papermill": {
     "duration": 0.05636,
     "end_time": "2022-05-17T14:15:31.492338",
     "exception": false,
     "start_time": "2022-05-17T14:15:31.435978",
     "status": "completed"
    },
    "tags": []
   },
   "outputs": [
    {
     "name": "stdout",
     "output_type": "stream",
     "text": [
      "Rows number: 18249\n",
      "Columns number: 14\n"
     ]
    }
   ],
   "source": [
    "# Numbers of rows and columns \n",
    "print(f\"Rows number: {df.shape[0]}\")\n",
    "print(f\"Columns number: {df.shape[1]}\")"
   ]
  },
  {
   "cell_type": "code",
   "execution_count": 8,
   "id": "ae93a9c0",
   "metadata": {},
   "outputs": [],
   "source": [
    "# Exrtacting the month from date\n",
    "def extract(x):\n",
    "    return x[5:7]\n",
    "df['month'] = df['Date']\n",
    "df['month'] = df['month'].apply(lambda x: extract(x))"
   ]
  },
  {
   "cell_type": "code",
   "execution_count": 9,
   "id": "76daf304",
   "metadata": {},
   "outputs": [
    {
     "data": {
      "text/plain": [
       "01    1944\n",
       "03    1836\n",
       "02    1728\n",
       "10    1512\n",
       "07    1512\n",
       "05    1512\n",
       "11    1404\n",
       "08    1404\n",
       "04    1404\n",
       "12    1403\n",
       "09    1296\n",
       "06    1294\n",
       "Name: month, dtype: int64"
      ]
     },
     "execution_count": 9,
     "metadata": {},
     "output_type": "execute_result"
    }
   ],
   "source": [
    "df['month'].value_counts()"
   ]
  },
  {
   "cell_type": "code",
   "execution_count": 10,
   "id": "3dc1542d",
   "metadata": {},
   "outputs": [
    {
     "data": {
      "text/plain": [
       "2017    5722\n",
       "2016    5616\n",
       "2015    5615\n",
       "2018    1296\n",
       "Name: year, dtype: int64"
      ]
     },
     "execution_count": 10,
     "metadata": {},
     "output_type": "execute_result"
    }
   ],
   "source": [
    "df['year'].value_counts()"
   ]
  },
  {
   "cell_type": "markdown",
   "id": "5d1224eb",
   "metadata": {
    "papermill": {
     "duration": 0.047939,
     "end_time": "2022-05-17T14:15:32.020212",
     "exception": false,
     "start_time": "2022-05-17T14:15:31.972273",
     "status": "completed"
    },
    "tags": []
   },
   "source": [
    "2017 has been the best year in terms of sales"
   ]
  },
  {
   "cell_type": "code",
   "execution_count": 11,
   "id": "e472008c",
   "metadata": {
    "scrolled": true
   },
   "outputs": [
    {
     "data": {
      "text/plain": [
       "Albany                 338\n",
       "Sacramento             338\n",
       "Northeast              338\n",
       "NorthernNewEngland     338\n",
       "Orlando                338\n",
       "Philadelphia           338\n",
       "PhoenixTucson          338\n",
       "Pittsburgh             338\n",
       "Plains                 338\n",
       "Portland               338\n",
       "RaleighGreensboro      338\n",
       "RichmondNorfolk        338\n",
       "Roanoke                338\n",
       "SanDiego               338\n",
       "Atlanta                338\n",
       "SanFrancisco           338\n",
       "Seattle                338\n",
       "SouthCarolina          338\n",
       "SouthCentral           338\n",
       "Southeast              338\n",
       "Spokane                338\n",
       "StLouis                338\n",
       "Syracuse               338\n",
       "Tampa                  338\n",
       "TotalUS                338\n",
       "West                   338\n",
       "NewYork                338\n",
       "NewOrleansMobile       338\n",
       "Nashville              338\n",
       "Midsouth               338\n",
       "BaltimoreWashington    338\n",
       "Boise                  338\n",
       "Boston                 338\n",
       "BuffaloRochester       338\n",
       "California             338\n",
       "Charlotte              338\n",
       "Chicago                338\n",
       "CincinnatiDayton       338\n",
       "Columbus               338\n",
       "DallasFtWorth          338\n",
       "Denver                 338\n",
       "Detroit                338\n",
       "GrandRapids            338\n",
       "GreatLakes             338\n",
       "HarrisburgScranton     338\n",
       "HartfordSpringfield    338\n",
       "Houston                338\n",
       "Indianapolis           338\n",
       "Jacksonville           338\n",
       "LasVegas               338\n",
       "LosAngeles             338\n",
       "Louisville             338\n",
       "MiamiFtLauderdale      338\n",
       "WestTexNewMexico       335\n",
       "Name: region, dtype: int64"
      ]
     },
     "execution_count": 11,
     "metadata": {},
     "output_type": "execute_result"
    }
   ],
   "source": [
    "df['region'].value_counts()"
   ]
  },
  {
   "cell_type": "code",
   "execution_count": 12,
   "id": "45349a91",
   "metadata": {},
   "outputs": [
    {
     "data": {
      "text/plain": [
       "54"
      ]
     },
     "execution_count": 12,
     "metadata": {},
     "output_type": "execute_result"
    }
   ],
   "source": [
    "len(df['region'].unique())"
   ]
  },
  {
   "cell_type": "markdown",
   "id": "4dfb4fbe",
   "metadata": {},
   "source": [
    "USA has only 50 states but we have 54 regions, so it doesn't refer to states. also we have a region called totalUS which refers to the whole country"
   ]
  },
  {
   "cell_type": "code",
   "execution_count": null,
   "id": "4bdb667c",
   "metadata": {},
   "outputs": [],
   "source": []
  },
  {
   "cell_type": "code",
   "execution_count": null,
   "id": "be2f0d01",
   "metadata": {},
   "outputs": [],
   "source": []
  },
  {
   "cell_type": "markdown",
   "id": "40f31e00",
   "metadata": {
    "papermill": {
     "duration": 0.060063,
     "end_time": "2022-05-17T14:15:34.359471",
     "exception": false,
     "start_time": "2022-05-17T14:15:34.299408",
     "status": "completed"
    },
    "tags": []
   },
   "source": [
    "## Data Cleaning\n"
   ]
  },
  {
   "cell_type": "code",
   "execution_count": 13,
   "id": "00f8e2ca",
   "metadata": {
    "execution": {
     "iopub.execute_input": "2022-05-17T14:15:34.742149Z",
     "iopub.status.busy": "2022-05-17T14:15:34.741845Z",
     "iopub.status.idle": "2022-05-17T14:15:34.748307Z",
     "shell.execute_reply": "2022-05-17T14:15:34.747698Z"
    },
    "papermill": {
     "duration": 0.069827,
     "end_time": "2022-05-17T14:15:34.750403",
     "exception": false,
     "start_time": "2022-05-17T14:15:34.680576",
     "status": "completed"
    },
    "tags": []
   },
   "outputs": [],
   "source": [
    "df.drop('Unnamed: 0', axis=1, inplace=True)"
   ]
  },
  {
   "cell_type": "markdown",
   "id": "7078508d",
   "metadata": {},
   "source": [
    "the bags number should be a whole number (200 , 5000, etc...)"
   ]
  },
  {
   "cell_type": "code",
   "execution_count": 14,
   "id": "f71112a6",
   "metadata": {},
   "outputs": [],
   "source": [
    "df['Small Bags'] = df['Small Bags'].apply(lambda x: int(x))\n",
    "df['Large Bags'] = df['Large Bags'].apply(lambda x: int(x))\n",
    "df['XLarge Bags'] = df['XLarge Bags'].apply(lambda x: int(x))"
   ]
  },
  {
   "cell_type": "markdown",
   "id": "e4674896",
   "metadata": {},
   "source": [
    "updating the total bags number"
   ]
  },
  {
   "cell_type": "code",
   "execution_count": 15,
   "id": "a6dfb5fa",
   "metadata": {},
   "outputs": [],
   "source": [
    "df['Total Bags'] = df['Small Bags'] + df['Large Bags'] + df['XLarge Bags']"
   ]
  },
  {
   "cell_type": "code",
   "execution_count": 16,
   "id": "7b44d45a",
   "metadata": {},
   "outputs": [
    {
     "data": {
      "image/png": "[encoded data removed]",
      "text/plain": [
       "<Figure size 432x288 with 1 Axes>"
      ]
     },
     "metadata": {},
     "output_type": "display_data"
    }
   ],
   "source": [
    "# Calculate the percentage of each type of bag\n",
    "df['small_pct'] = df['Small Bags'] / df['Total Bags'] * 100\n",
    "df['large_pct'] = df['Large Bags'] / df['Total Bags'] * 100\n",
    "df['xlarge_pct'] = df['XLarge Bags'] / df['Total Bags'] * 100\n",
    "\n",
    "# Create a pie chart showing the percentage of each bag type\n",
    "labels = ['Small Bags', 'Large Bags', 'XLarge Bags']\n",
    "sizes = [df['small_pct'].mean(), df['large_pct'].mean(), df['xlarge_pct'].mean()]\n",
    "explode = (0.1, 0.1, 0.1)  # explode each slice slightly for emphasis\n",
    "\n",
    "fig, ax = plt.subplots()\n",
    "ax.pie(sizes, labels=labels, explode=explode, autopct='%1.1f%%', startangle=90)\n",
    "ax.axis('equal')  # ensure that the pie is drawn as a circle\n",
    "ax.set_title('Percentage of Bags')\n",
    "\n",
    "plt.show()"
   ]
  },
  {
   "cell_type": "code",
   "execution_count": 17,
   "id": "763545a1",
   "metadata": {},
   "outputs": [
    {
     "data": {
      "image/png": "[encoded data removed]",
      "text/plain": [
       "<Figure size 432x288 with 1 Axes>"
      ]
     },
     "metadata": {},
     "output_type": "display_data"
    }
   ],
   "source": [
    "# Calculate the total volume of each type of avocado\n",
    "total_4046 = df['4046'].sum()\n",
    "total_4225 = df['4225'].sum()\n",
    "total_4770 = df['4770'].sum()\n",
    "\n",
    "# Create a pie chart showing the distribution of each type of avocado\n",
    "sizes = [total_4046, total_4225, total_4770]\n",
    "labels = ['4046', '4225', '4770']\n",
    "explode = (0.1, 0, 0)  # explode the first slice slightly for emphasis\n",
    "\n",
    "fig, ax = plt.subplots()\n",
    "ax.pie(sizes, explode=explode, labels=labels, autopct='%1.1f%%', startangle=90)\n",
    "ax.axis('equal')  # ensure that the pie is drawn as a circle\n",
    "ax.set_title('Distribution of Avocado Types')\n",
    "\n",
    "plt.show()"
   ]
  },
  {
   "cell_type": "code",
   "execution_count": null,
   "id": "a5b4a2a9",
   "metadata": {},
   "outputs": [],
   "source": []
  },
  {
   "cell_type": "markdown",
   "id": "db271d7d",
   "metadata": {
    "papermill": {
     "duration": 0.059396,
     "end_time": "2022-05-17T14:15:34.869039",
     "exception": false,
     "start_time": "2022-05-17T14:15:34.809643",
     "status": "completed"
    },
    "tags": []
   },
   "source": [
    "## Skewness"
   ]
  },
  {
   "cell_type": "code",
   "execution_count": 18,
   "id": "2f9c1d4b",
   "metadata": {
    "execution": {
     "iopub.execute_input": "2022-05-17T14:15:34.992552Z",
     "iopub.status.busy": "2022-05-17T14:15:34.992218Z",
     "iopub.status.idle": "2022-05-17T14:15:35.487546Z",
     "shell.execute_reply": "2022-05-17T14:15:35.486942Z"
    },
    "papermill": {
     "duration": 0.559071,
     "end_time": "2022-05-17T14:15:35.489487",
     "exception": false,
     "start_time": "2022-05-17T14:15:34.930416",
     "status": "completed"
    },
    "tags": []
   },
   "outputs": [
    {
     "name": "stderr",
     "output_type": "stream",
     "text": [
      "C:\\Users\\user\\anaconda3\\lib\\site-packages\\seaborn\\distributions.py:2619: FutureWarning: `distplot` is a deprecated function and will be removed in a future version. Please adapt your code to use either `displot` (a figure-level function with similar flexibility) or `histplot` (an axes-level function for histograms).\n",
      "  warnings.warn(msg, FutureWarning)\n"
     ]
    },
    {
     "data": {
      "text/plain": [
       "<AxesSubplot:xlabel='AveragePrice', ylabel='Density'>"
      ]
     },
     "execution_count": 18,
     "metadata": {},
     "output_type": "execute_result"
    },
    {
     "data": {
      "image/png": "[encoded data removed]",
      "text/plain": [
       "<Figure size 864x504 with 1 Axes>"
      ]
     },
     "metadata": {
      "needs_background": "light"
     },
     "output_type": "display_data"
    }
   ],
   "source": [
    "from scipy.stats import norm\n",
    "plt.figure(figsize=(12, 7))\n",
    "sns.set_theme(style='darkgrid')\n",
    "sns.distplot(df['AveragePrice'], kde=True, fit=norm)"
   ]
  },
  {
   "cell_type": "markdown",
   "id": "cdeb85ac",
   "metadata": {
    "papermill": {
     "duration": 0.062097,
     "end_time": "2022-05-17T14:15:35.613795",
     "exception": false,
     "start_time": "2022-05-17T14:15:35.551698",
     "status": "completed"
    },
    "tags": []
   },
   "source": [
    "## Outliers"
   ]
  },
  {
   "cell_type": "code",
   "execution_count": 19,
   "id": "2b1b4c93",
   "metadata": {
    "execution": {
     "iopub.execute_input": "2022-05-17T14:15:35.746668Z",
     "iopub.status.busy": "2022-05-17T14:15:35.745586Z",
     "iopub.status.idle": "2022-05-17T14:15:35.923188Z",
     "shell.execute_reply": "2022-05-17T14:15:35.922626Z"
    },
    "papermill": {
     "duration": 0.245095,
     "end_time": "2022-05-17T14:15:35.925025",
     "exception": false,
     "start_time": "2022-05-17T14:15:35.679930",
     "status": "completed"
    },
    "tags": []
   },
   "outputs": [
    {
     "data": {
      "text/plain": [
       "<AxesSubplot:>"
      ]
     },
     "execution_count": 19,
     "metadata": {},
     "output_type": "execute_result"
    },
    {
     "data": {
      "image/png": "[encoded data removed]",
      "text/plain": [
       "<Figure size 864x504 with 1 Axes>"
      ]
     },
     "metadata": {},
     "output_type": "display_data"
    }
   ],
   "source": [
    "# using seaborn boxplot to identify outliers\n",
    "plt.figure(figsize=(12, 7))\n",
    "sns.boxplot(data=df['AveragePrice'])"
   ]
  },
  {
   "cell_type": "markdown",
   "id": "bb171d9a",
   "metadata": {},
   "source": [
    "We have a lot of outliers (above 2.5)"
   ]
  },
  {
   "cell_type": "code",
   "execution_count": 20,
   "id": "42d109cd",
   "metadata": {
    "execution": {
     "iopub.execute_input": "2022-05-17T14:15:36.054024Z",
     "iopub.status.busy": "2022-05-17T14:15:36.052994Z",
     "iopub.status.idle": "2022-05-17T14:15:36.060316Z",
     "shell.execute_reply": "2022-05-17T14:15:36.059571Z"
    },
    "papermill": {
     "duration": 0.073631,
     "end_time": "2022-05-17T14:15:36.062273",
     "exception": false,
     "start_time": "2022-05-17T14:15:35.988642",
     "status": "completed"
    },
    "tags": []
   },
   "outputs": [
    {
     "name": "stdout",
     "output_type": "stream",
     "text": [
      "Data between 0.1979818422594828 and 2.6139749772922825 should be considered good data\n"
     ]
    }
   ],
   "source": [
    "# removing outliers\n",
    "mean = np.mean(df['AveragePrice'])\n",
    "sigma = np.std(df['AveragePrice']) \n",
    "lower_range = mean - (3 * sigma)\n",
    "upper_range = mean + (3 * sigma)\n",
    "print(f\"Data between {lower_range} and {upper_range} should be considered good data\")"
   ]
  },
  {
   "cell_type": "code",
   "execution_count": 21,
   "id": "82f38a68",
   "metadata": {
    "execution": {
     "iopub.execute_input": "2022-05-17T14:15:36.200743Z",
     "iopub.status.busy": "2022-05-17T14:15:36.200142Z",
     "iopub.status.idle": "2022-05-17T14:15:36.215829Z",
     "shell.execute_reply": "2022-05-17T14:15:36.214916Z"
    },
    "papermill": {
     "duration": 0.09128,
     "end_time": "2022-05-17T14:15:36.218883",
     "exception": false,
     "start_time": "2022-05-17T14:15:36.127603",
     "status": "completed"
    },
    "tags": []
   },
   "outputs": [
    {
     "name": "stdout",
     "output_type": "stream",
     "text": [
      "Outliers found: 131\n"
     ]
    }
   ],
   "source": [
    "# number of outliers\n",
    "outliers = [\n",
    "    outlier for outlier in df['AveragePrice'] if outlier < lower_range or outlier > upper_range\n",
    "           ]\n",
    "print(f\"Outliers found: {len(outliers)}\")"
   ]
  },
  {
   "cell_type": "markdown",
   "id": "619584c9",
   "metadata": {
    "papermill": {
     "duration": 0.062896,
     "end_time": "2022-05-17T14:15:36.351135",
     "exception": false,
     "start_time": "2022-05-17T14:15:36.288239",
     "status": "completed"
    },
    "tags": []
   },
   "source": [
    "## Preparing the dataset for our machine learning model"
   ]
  },
  {
   "cell_type": "code",
   "execution_count": 22,
   "id": "1bef0750",
   "metadata": {
    "execution": {
     "iopub.execute_input": "2022-05-17T14:15:36.479830Z",
     "iopub.status.busy": "2022-05-17T14:15:36.479230Z",
     "iopub.status.idle": "2022-05-17T14:15:36.502464Z",
     "shell.execute_reply": "2022-05-17T14:15:36.501409Z"
    },
    "papermill": {
     "duration": 0.089886,
     "end_time": "2022-05-17T14:15:36.504484",
     "exception": false,
     "start_time": "2022-05-17T14:15:36.414598",
     "status": "completed"
    },
    "tags": []
   },
   "outputs": [
    {
     "data": {
      "text/html": [
       "<div>\n",
       "<style scoped>\n",
       "    .dataframe tbody tr th:only-of-type {\n",
       "        vertical-align: middle;\n",
       "    }\n",
       "\n",
       "    .dataframe tbody tr th {\n",
       "        vertical-align: top;\n",
       "    }\n",
       "\n",
       "    .dataframe thead th {\n",
       "        text-align: right;\n",
       "    }\n",
       "</style>\n",
       "<table border=\"1\" class=\"dataframe\">\n",
       "  <thead>\n",
       "    <tr style=\"text-align: right;\">\n",
       "      <th></th>\n",
       "      <th>Date</th>\n",
       "      <th>AveragePrice</th>\n",
       "      <th>Total Volume</th>\n",
       "      <th>4046</th>\n",
       "      <th>4225</th>\n",
       "      <th>4770</th>\n",
       "      <th>Total Bags</th>\n",
       "      <th>Small Bags</th>\n",
       "      <th>Large Bags</th>\n",
       "      <th>XLarge Bags</th>\n",
       "      <th>type</th>\n",
       "      <th>year</th>\n",
       "      <th>region</th>\n",
       "      <th>month</th>\n",
       "      <th>small_pct</th>\n",
       "      <th>large_pct</th>\n",
       "      <th>xlarge_pct</th>\n",
       "    </tr>\n",
       "  </thead>\n",
       "  <tbody>\n",
       "    <tr>\n",
       "      <th>0</th>\n",
       "      <td>2015-12-27</td>\n",
       "      <td>1.33</td>\n",
       "      <td>64236.62</td>\n",
       "      <td>1036.74</td>\n",
       "      <td>54454.85</td>\n",
       "      <td>48.16</td>\n",
       "      <td>8696</td>\n",
       "      <td>8603</td>\n",
       "      <td>93</td>\n",
       "      <td>0</td>\n",
       "      <td>conventional</td>\n",
       "      <td>2015</td>\n",
       "      <td>Albany</td>\n",
       "      <td>12</td>\n",
       "      <td>98.930543</td>\n",
       "      <td>1.069457</td>\n",
       "      <td>0.0</td>\n",
       "    </tr>\n",
       "    <tr>\n",
       "      <th>1</th>\n",
       "      <td>2015-12-20</td>\n",
       "      <td>1.35</td>\n",
       "      <td>54876.98</td>\n",
       "      <td>674.28</td>\n",
       "      <td>44638.81</td>\n",
       "      <td>58.33</td>\n",
       "      <td>9505</td>\n",
       "      <td>9408</td>\n",
       "      <td>97</td>\n",
       "      <td>0</td>\n",
       "      <td>conventional</td>\n",
       "      <td>2015</td>\n",
       "      <td>Albany</td>\n",
       "      <td>12</td>\n",
       "      <td>98.979484</td>\n",
       "      <td>1.020516</td>\n",
       "      <td>0.0</td>\n",
       "    </tr>\n",
       "    <tr>\n",
       "      <th>2</th>\n",
       "      <td>2015-12-13</td>\n",
       "      <td>0.93</td>\n",
       "      <td>118220.22</td>\n",
       "      <td>794.70</td>\n",
       "      <td>109149.67</td>\n",
       "      <td>130.50</td>\n",
       "      <td>8145</td>\n",
       "      <td>8042</td>\n",
       "      <td>103</td>\n",
       "      <td>0</td>\n",
       "      <td>conventional</td>\n",
       "      <td>2015</td>\n",
       "      <td>Albany</td>\n",
       "      <td>12</td>\n",
       "      <td>98.735421</td>\n",
       "      <td>1.264579</td>\n",
       "      <td>0.0</td>\n",
       "    </tr>\n",
       "    <tr>\n",
       "      <th>3</th>\n",
       "      <td>2015-12-06</td>\n",
       "      <td>1.08</td>\n",
       "      <td>78992.15</td>\n",
       "      <td>1132.00</td>\n",
       "      <td>71976.41</td>\n",
       "      <td>72.58</td>\n",
       "      <td>5810</td>\n",
       "      <td>5677</td>\n",
       "      <td>133</td>\n",
       "      <td>0</td>\n",
       "      <td>conventional</td>\n",
       "      <td>2015</td>\n",
       "      <td>Albany</td>\n",
       "      <td>12</td>\n",
       "      <td>97.710843</td>\n",
       "      <td>2.289157</td>\n",
       "      <td>0.0</td>\n",
       "    </tr>\n",
       "    <tr>\n",
       "      <th>4</th>\n",
       "      <td>2015-11-29</td>\n",
       "      <td>1.28</td>\n",
       "      <td>51039.60</td>\n",
       "      <td>941.48</td>\n",
       "      <td>43838.39</td>\n",
       "      <td>75.78</td>\n",
       "      <td>6183</td>\n",
       "      <td>5986</td>\n",
       "      <td>197</td>\n",
       "      <td>0</td>\n",
       "      <td>conventional</td>\n",
       "      <td>2015</td>\n",
       "      <td>Albany</td>\n",
       "      <td>11</td>\n",
       "      <td>96.813844</td>\n",
       "      <td>3.186156</td>\n",
       "      <td>0.0</td>\n",
       "    </tr>\n",
       "  </tbody>\n",
       "</table>\n",
       "</div>"
      ],
      "text/plain": [
       "         Date  AveragePrice  Total Volume     4046       4225    4770  \\\n",
       "0  2015-12-27          1.33      64236.62  1036.74   54454.85   48.16   \n",
       "1  2015-12-20          1.35      54876.98   674.28   44638.81   58.33   \n",
       "2  2015-12-13          0.93     118220.22   794.70  109149.67  130.50   \n",
       "3  2015-12-06          1.08      78992.15  1132.00   71976.41   72.58   \n",
       "4  2015-11-29          1.28      51039.60   941.48   43838.39   75.78   \n",
       "\n",
       "   Total Bags  Small Bags  Large Bags  XLarge Bags          type  year  \\\n",
       "0        8696        8603          93            0  conventional  2015   \n",
       "1        9505        9408          97            0  conventional  2015   \n",
       "2        8145        8042         103            0  conventional  2015   \n",
       "3        5810        5677         133            0  conventional  2015   \n",
       "4        6183        5986         197            0  conventional  2015   \n",
       "\n",
       "   region month  small_pct  large_pct  xlarge_pct  \n",
       "0  Albany    12  98.930543   1.069457         0.0  \n",
       "1  Albany    12  98.979484   1.020516         0.0  \n",
       "2  Albany    12  98.735421   1.264579         0.0  \n",
       "3  Albany    12  97.710843   2.289157         0.0  \n",
       "4  Albany    11  96.813844   3.186156         0.0  "
      ]
     },
     "execution_count": 22,
     "metadata": {},
     "output_type": "execute_result"
    }
   ],
   "source": [
    "new_df = df[(df['AveragePrice'] > lower_range) & (df['AveragePrice'] < upper_range)]\n",
    "df.head()"
   ]
  },
  {
   "cell_type": "code",
   "execution_count": 23,
   "id": "5ce2e01b",
   "metadata": {
    "execution": {
     "iopub.execute_input": "2022-05-17T14:15:36.636217Z",
     "iopub.status.busy": "2022-05-17T14:15:36.635624Z",
     "iopub.status.idle": "2022-05-17T14:15:37.043344Z",
     "shell.execute_reply": "2022-05-17T14:15:37.042375Z"
    },
    "papermill": {
     "duration": 0.476849,
     "end_time": "2022-05-17T14:15:37.045952",
     "exception": false,
     "start_time": "2022-05-17T14:15:36.569103",
     "status": "completed"
    },
    "tags": []
   },
   "outputs": [],
   "source": [
    "from sklearn.linear_model import LinearRegression\n",
    "from sklearn.model_selection import train_test_split\n",
    "from sklearn.metrics import mean_absolute_error"
   ]
  },
  {
   "cell_type": "code",
   "execution_count": 24,
   "id": "f992f951",
   "metadata": {
    "execution": {
     "iopub.execute_input": "2022-05-17T14:15:37.338470Z",
     "iopub.status.busy": "2022-05-17T14:15:37.338148Z",
     "iopub.status.idle": "2022-05-17T14:15:37.344138Z",
     "shell.execute_reply": "2022-05-17T14:15:37.343503Z"
    },
    "papermill": {
     "duration": 0.074936,
     "end_time": "2022-05-17T14:15:37.346129",
     "exception": false,
     "start_time": "2022-05-17T14:15:37.271193",
     "status": "completed"
    },
    "tags": []
   },
   "outputs": [],
   "source": [
    "# target and features\n",
    "y = df['AveragePrice']\n",
    "X = df.loc[:,['Total Volume','4046','4225', '4770', 'Total Bags', 'Small Bags', 'Large Bags', 'XLarge Bags', 'year','month']]"
   ]
  },
  {
   "cell_type": "code",
   "execution_count": 25,
   "id": "1717591a",
   "metadata": {
    "execution": {
     "iopub.execute_input": "2022-05-17T14:15:37.480281Z",
     "iopub.status.busy": "2022-05-17T14:15:37.479655Z",
     "iopub.status.idle": "2022-05-17T14:15:37.485000Z",
     "shell.execute_reply": "2022-05-17T14:15:37.484139Z"
    },
    "papermill": {
     "duration": 0.076374,
     "end_time": "2022-05-17T14:15:37.487663",
     "exception": false,
     "start_time": "2022-05-17T14:15:37.411289",
     "status": "completed"
    },
    "tags": []
   },
   "outputs": [
    {
     "data": {
      "text/plain": [
       "(18249,)"
      ]
     },
     "execution_count": 25,
     "metadata": {},
     "output_type": "execute_result"
    }
   ],
   "source": [
    "y.shape"
   ]
  },
  {
   "cell_type": "code",
   "execution_count": 26,
   "id": "4f17378e",
   "metadata": {
    "execution": {
     "iopub.execute_input": "2022-05-17T14:15:37.622427Z",
     "iopub.status.busy": "2022-05-17T14:15:37.622091Z",
     "iopub.status.idle": "2022-05-17T14:15:37.640161Z",
     "shell.execute_reply": "2022-05-17T14:15:37.639517Z"
    },
    "papermill": {
     "duration": 0.08703,
     "end_time": "2022-05-17T14:15:37.642118",
     "exception": false,
     "start_time": "2022-05-17T14:15:37.555088",
     "status": "completed"
    },
    "tags": []
   },
   "outputs": [
    {
     "data": {
      "text/html": [
       "<div>\n",
       "<style scoped>\n",
       "    .dataframe tbody tr th:only-of-type {\n",
       "        vertical-align: middle;\n",
       "    }\n",
       "\n",
       "    .dataframe tbody tr th {\n",
       "        vertical-align: top;\n",
       "    }\n",
       "\n",
       "    .dataframe thead th {\n",
       "        text-align: right;\n",
       "    }\n",
       "</style>\n",
       "<table border=\"1\" class=\"dataframe\">\n",
       "  <thead>\n",
       "    <tr style=\"text-align: right;\">\n",
       "      <th></th>\n",
       "      <th>Total Volume</th>\n",
       "      <th>4046</th>\n",
       "      <th>4225</th>\n",
       "      <th>4770</th>\n",
       "      <th>Total Bags</th>\n",
       "      <th>Small Bags</th>\n",
       "      <th>Large Bags</th>\n",
       "      <th>XLarge Bags</th>\n",
       "      <th>year</th>\n",
       "      <th>month</th>\n",
       "    </tr>\n",
       "  </thead>\n",
       "  <tbody>\n",
       "    <tr>\n",
       "      <th>0</th>\n",
       "      <td>64236.62</td>\n",
       "      <td>1036.74</td>\n",
       "      <td>54454.85</td>\n",
       "      <td>48.16</td>\n",
       "      <td>8696</td>\n",
       "      <td>8603</td>\n",
       "      <td>93</td>\n",
       "      <td>0</td>\n",
       "      <td>2015</td>\n",
       "      <td>12</td>\n",
       "    </tr>\n",
       "    <tr>\n",
       "      <th>1</th>\n",
       "      <td>54876.98</td>\n",
       "      <td>674.28</td>\n",
       "      <td>44638.81</td>\n",
       "      <td>58.33</td>\n",
       "      <td>9505</td>\n",
       "      <td>9408</td>\n",
       "      <td>97</td>\n",
       "      <td>0</td>\n",
       "      <td>2015</td>\n",
       "      <td>12</td>\n",
       "    </tr>\n",
       "    <tr>\n",
       "      <th>2</th>\n",
       "      <td>118220.22</td>\n",
       "      <td>794.70</td>\n",
       "      <td>109149.67</td>\n",
       "      <td>130.50</td>\n",
       "      <td>8145</td>\n",
       "      <td>8042</td>\n",
       "      <td>103</td>\n",
       "      <td>0</td>\n",
       "      <td>2015</td>\n",
       "      <td>12</td>\n",
       "    </tr>\n",
       "    <tr>\n",
       "      <th>3</th>\n",
       "      <td>78992.15</td>\n",
       "      <td>1132.00</td>\n",
       "      <td>71976.41</td>\n",
       "      <td>72.58</td>\n",
       "      <td>5810</td>\n",
       "      <td>5677</td>\n",
       "      <td>133</td>\n",
       "      <td>0</td>\n",
       "      <td>2015</td>\n",
       "      <td>12</td>\n",
       "    </tr>\n",
       "    <tr>\n",
       "      <th>4</th>\n",
       "      <td>51039.60</td>\n",
       "      <td>941.48</td>\n",
       "      <td>43838.39</td>\n",
       "      <td>75.78</td>\n",
       "      <td>6183</td>\n",
       "      <td>5986</td>\n",
       "      <td>197</td>\n",
       "      <td>0</td>\n",
       "      <td>2015</td>\n",
       "      <td>11</td>\n",
       "    </tr>\n",
       "  </tbody>\n",
       "</table>\n",
       "</div>"
      ],
      "text/plain": [
       "   Total Volume     4046       4225    4770  Total Bags  Small Bags  \\\n",
       "0      64236.62  1036.74   54454.85   48.16        8696        8603   \n",
       "1      54876.98   674.28   44638.81   58.33        9505        9408   \n",
       "2     118220.22   794.70  109149.67  130.50        8145        8042   \n",
       "3      78992.15  1132.00   71976.41   72.58        5810        5677   \n",
       "4      51039.60   941.48   43838.39   75.78        6183        5986   \n",
       "\n",
       "   Large Bags  XLarge Bags  year month  \n",
       "0          93            0  2015    12  \n",
       "1          97            0  2015    12  \n",
       "2         103            0  2015    12  \n",
       "3         133            0  2015    12  \n",
       "4         197            0  2015    11  "
      ]
     },
     "execution_count": 26,
     "metadata": {},
     "output_type": "execute_result"
    }
   ],
   "source": [
    "X.head()"
   ]
  },
  {
   "cell_type": "markdown",
   "id": "fd1baf01",
   "metadata": {
    "papermill": {
     "duration": 0.064971,
     "end_time": "2022-05-17T14:15:37.773364",
     "exception": false,
     "start_time": "2022-05-17T14:15:37.708393",
     "status": "completed"
    },
    "tags": []
   },
   "source": [
    "## Data Preprocessing"
   ]
  },
  {
   "cell_type": "code",
   "execution_count": 27,
   "id": "ce9b3cda",
   "metadata": {},
   "outputs": [],
   "source": [
    "X = pd.get_dummies(X)"
   ]
  },
  {
   "cell_type": "markdown",
   "id": "7b7d58fc",
   "metadata": {
    "papermill": {
     "duration": 0.067741,
     "end_time": "2022-05-17T14:15:38.985071",
     "exception": false,
     "start_time": "2022-05-17T14:15:38.917330",
     "status": "completed"
    },
    "tags": []
   },
   "source": [
    "## LinearRegression"
   ]
  },
  {
   "cell_type": "code",
   "execution_count": 28,
   "id": "ff6e98d3",
   "metadata": {
    "execution": {
     "iopub.execute_input": "2022-05-17T14:15:39.119743Z",
     "iopub.status.busy": "2022-05-17T14:15:39.119348Z",
     "iopub.status.idle": "2022-05-17T14:15:39.128097Z",
     "shell.execute_reply": "2022-05-17T14:15:39.127441Z"
    },
    "papermill": {
     "duration": 0.07824,
     "end_time": "2022-05-17T14:15:39.130169",
     "exception": false,
     "start_time": "2022-05-17T14:15:39.051929",
     "status": "completed"
    },
    "tags": []
   },
   "outputs": [],
   "source": [
    "# splitting the dataset into train and test dataset\n",
    "X_train, X_test, y_train, y_test = train_test_split(X, y, test_size=0.2, random_state=None)"
   ]
  },
  {
   "cell_type": "code",
   "execution_count": 29,
   "id": "b5148818",
   "metadata": {
    "execution": {
     "iopub.execute_input": "2022-05-17T14:15:39.268375Z",
     "iopub.status.busy": "2022-05-17T14:15:39.268073Z",
     "iopub.status.idle": "2022-05-17T14:15:39.294020Z",
     "shell.execute_reply": "2022-05-17T14:15:39.293179Z"
    },
    "papermill": {
     "duration": 0.098031,
     "end_time": "2022-05-17T14:15:39.296954",
     "exception": false,
     "start_time": "2022-05-17T14:15:39.198923",
     "status": "completed"
    },
    "tags": []
   },
   "outputs": [
    {
     "data": {
      "text/plain": [
       "LinearRegression()"
      ]
     },
     "execution_count": 29,
     "metadata": {},
     "output_type": "execute_result"
    }
   ],
   "source": [
    "# training the model\n",
    "lr = LinearRegression()\n",
    "lr.fit(X_train, y_train)"
   ]
  },
  {
   "cell_type": "code",
   "execution_count": 30,
   "id": "c80604fd",
   "metadata": {
    "execution": {
     "iopub.execute_input": "2022-05-17T14:15:39.493154Z",
     "iopub.status.busy": "2022-05-17T14:15:39.492846Z",
     "iopub.status.idle": "2022-05-17T14:15:39.507720Z",
     "shell.execute_reply": "2022-05-17T14:15:39.505724Z"
    },
    "papermill": {
     "duration": 0.094507,
     "end_time": "2022-05-17T14:15:39.511113",
     "exception": false,
     "start_time": "2022-05-17T14:15:39.416606",
     "status": "completed"
    },
    "tags": []
   },
   "outputs": [
    {
     "name": "stdout",
     "output_type": "stream",
     "text": [
      "[1.41478575 1.49847359 1.49186377 ... 1.64914746 1.55725562 1.59057181]\n"
     ]
    }
   ],
   "source": [
    "# making predictions\n",
    "prediction = lr.predict(X_test)\n",
    "print(prediction)"
   ]
  },
  {
   "cell_type": "code",
   "execution_count": 31,
   "id": "217bd04f",
   "metadata": {
    "execution": {
     "iopub.execute_input": "2022-05-17T14:15:39.844966Z",
     "iopub.status.busy": "2022-05-17T14:15:39.844638Z",
     "iopub.status.idle": "2022-05-17T14:15:39.852655Z",
     "shell.execute_reply": "2022-05-17T14:15:39.851749Z"
    },
    "papermill": {
     "duration": 0.079726,
     "end_time": "2022-05-17T14:15:39.855727",
     "exception": false,
     "start_time": "2022-05-17T14:15:39.776001",
     "status": "completed"
    },
    "tags": []
   },
   "outputs": [
    {
     "name": "stdout",
     "output_type": "stream",
     "text": [
      "Mean Absolute Error: 0.30347427863404525\n"
     ]
    }
   ],
   "source": [
    "print(f\"Mean Absolute Error: {mean_absolute_error(y_test, prediction)}\")"
   ]
  },
  {
   "cell_type": "code",
   "execution_count": null,
   "id": "447d39fd",
   "metadata": {},
   "outputs": [],
   "source": []
  },
  {
   "cell_type": "code",
   "execution_count": null,
   "id": "592c1e7a",
   "metadata": {},
   "outputs": [],
   "source": []
  }
 ],
 "metadata": {
  "kernelspec": {
   "display_name": "Python 3 (ipykernel)",
   "language": "python",
   "name": "python3"
  },
  "language_info": {
   "codemirror_mode": {
    "name": "ipython",
    "version": 3
   },
   "file_extension": ".py",
   "mimetype": "text/x-python",
   "name": "python",
   "nbconvert_exporter": "python",
   "pygments_lexer": "ipython3",
   "version": "3.9.7"
  },
  "papermill": {
   "default_parameters": {},
   "duration": 21.185622,
   "end_time": "2022-05-17T14:15:40.847088",
   "environment_variables": {},
   "exception": null,
   "input_path": "__notebook__.ipynb",
   "output_path": "__notebook__.ipynb",
   "parameters": {},
   "start_time": "2022-05-17T14:15:19.661466",
   "version": "2.3.4"
  }
 },
 "nbformat": 4,
 "nbformat_minor": 5
}
